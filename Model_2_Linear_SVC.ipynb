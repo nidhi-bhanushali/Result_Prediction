{
 "cells": [
  {
   "cell_type": "code",
   "execution_count": 1,
   "metadata": {},
   "outputs": [],
   "source": [
    "import numpy as np\n",
    "import pandas as pd\n",
    "from sklearn.preprocessing import LabelEncoder\n",
    "from sklearn.model_selection import train_test_split, GridSearchCV, cross_val_score\n",
    "from sklearn.metrics import confusion_matrix\n",
    "from sklearn.pipeline import Pipeline\n",
    "from sklearn.feature_selection import SelectKBest, chi2\n",
    "from sklearn.svm import LinearSVC\n",
    "import pickle"
   ]
  },
  {
   "cell_type": "code",
   "execution_count": 21,
   "metadata": {},
   "outputs": [],
   "source": [
    "def read_data():\n",
    "    data = pd.read_csv('student-mat.csv', delimiter=';')\n",
    "    print(data['famsup'])\n",
    "    return data"
   ]
  },
  {
   "cell_type": "code",
   "execution_count": 3,
   "metadata": {},
   "outputs": [],
   "source": [
    "def split_data(X, Y):\n",
    "    return train_test_split(X, Y, test_size=0.2, random_state=42)"
   ]
  },
  {
   "cell_type": "code",
   "execution_count": 4,
   "metadata": {},
   "outputs": [],
   "source": [
    "def confuse(y_t, y_p):\n",
    "    confuse_matrix = confusion_matrix(y_t, y_p)\n",
    "    fpr(confuse_matrix)\n",
    "    ffr(confuse_matrix)"
   ]
  },
  {
   "cell_type": "code",
   "execution_count": 5,
   "metadata": {},
   "outputs": [],
   "source": [
    "def fpr(confuse_matrix):\n",
    "    fp = confuse_matrix[0][1]\n",
    "    tf = confuse_matrix[0][0]\n",
    "    rate = float(fp) / (fp + tf)\n",
    "    print(\"False pass Rate :\", rate)\n",
    "    \n",
    "def ffr(confuse_matrix):\n",
    "    ff = confuse_matrix[1][0]\n",
    "    tp = confuse_matrix[1][1]\n",
    "    rate = float(ff) / (ff + tp)\n",
    "    print(\"False fail Rate :\", rate)"
   ]
  },
  {
   "cell_type": "code",
   "execution_count": 6,
   "metadata": {},
   "outputs": [],
   "source": [
    "def train_and_score(X, y, name):\n",
    "    X_train, X_test, y_train, y_test = split_data(X, y)\n",
    "    \n",
    "    clf = Pipeline([\n",
    "        ('reduce_dim', SelectKBest(chi2, k=2)),\n",
    "        ('train', LinearSVC(C=100)),\n",
    "    ])\n",
    "    \n",
    "    scores = cross_val_score(clf, X_train, y_train, cv=5, n_jobs=2)\n",
    "    print(\"Mean Model Accuracy\", np.array(scores).mean())\n",
    "    \n",
    "    clf.fit(X_train, y_train)\n",
    "    \n",
    "    confuse(y_test, clf.predict(X_test))\n",
    "    \n",
    "    filename = \"model\" + name + \".pkl\"\n",
    "    with open(filename,\"wb\") as f:\n",
    "        pickle.dump(clf,f)\n",
    "    \n",
    "    print()"
   ]
  },
  {
   "cell_type": "code",
   "execution_count": 22,
   "metadata": {},
   "outputs": [
    {
     "name": "stdout",
     "output_type": "stream",
     "text": [
      "Student Performance Predictions\n",
      "0       no\n",
      "1      yes\n",
      "2       no\n",
      "3      yes\n",
      "4      yes\n",
      "      ... \n",
      "390    yes\n",
      "391     no\n",
      "392     no\n",
      "393     no\n",
      "394     no\n",
      "Name: famsup, Length: 395, dtype: object\n",
      "Index(['school', 'sex', 'age', 'address', 'famsize', 'Pstatus', 'Medu', 'Fedu',\n",
      "       'Mjob', 'Fjob', 'reason', 'guardian', 'traveltime', 'studytime',\n",
      "       'failures', 'schoolsup', 'famsup', 'paid', 'activities', 'nursery',\n",
      "       'higher', 'internet', 'romantic', 'famrel', 'freetime', 'goout', 'Dalc',\n",
      "       'Walc', 'health', 'absences', 'G1', 'G2', 'G3'],\n",
      "      dtype='object')\n",
      "0      0\n",
      "1      1\n",
      "2      0\n",
      "3      1\n",
      "4      1\n",
      "      ..\n",
      "390    1\n",
      "391    0\n",
      "392    0\n",
      "393    0\n",
      "394    0\n",
      "Name: famsup, Length: 395, dtype: int32\n",
      "\n",
      "\n",
      "Model Accuracy Knowing G1 & G2 Scores\n",
      "=====================================\n"
     ]
    },
    {
     "name": "stderr",
     "output_type": "stream",
     "text": [
      "D:\\Anaconda\\envs\\py3-TF2.0\\lib\\site-packages\\ipykernel_launcher.py:19: SettingWithCopyWarning: \n",
      "A value is trying to be set on a copy of a slice from a DataFrame\n",
      "\n",
      "See the caveats in the documentation: https://pandas.pydata.org/pandas-docs/stable/user_guide/indexing.html#returning-a-view-versus-a-copy\n",
      "D:\\Anaconda\\envs\\py3-TF2.0\\lib\\site-packages\\ipykernel_launcher.py:24: SettingWithCopyWarning: \n",
      "A value is trying to be set on a copy of a slice from a DataFrame\n",
      "\n",
      "See the caveats in the documentation: https://pandas.pydata.org/pandas-docs/stable/user_guide/indexing.html#returning-a-view-versus-a-copy\n",
      "D:\\Anaconda\\envs\\py3-TF2.0\\lib\\site-packages\\ipykernel_launcher.py:29: SettingWithCopyWarning: \n",
      "A value is trying to be set on a copy of a slice from a DataFrame\n",
      "\n",
      "See the caveats in the documentation: https://pandas.pydata.org/pandas-docs/stable/user_guide/indexing.html#returning-a-view-versus-a-copy\n",
      "D:\\Anaconda\\envs\\py3-TF2.0\\lib\\site-packages\\ipykernel_launcher.py:27: SettingWithCopyWarning: \n",
      "A value is trying to be set on a copy of a slice from a DataFrame\n",
      "\n",
      "See the caveats in the documentation: https://pandas.pydata.org/pandas-docs/stable/user_guide/indexing.html#returning-a-view-versus-a-copy\n",
      "D:\\Anaconda\\envs\\py3-TF2.0\\lib\\site-packages\\ipykernel_launcher.py:17: SettingWithCopyWarning: \n",
      "A value is trying to be set on a copy of a slice from a DataFrame\n",
      "\n",
      "See the caveats in the documentation: https://pandas.pydata.org/pandas-docs/stable/user_guide/indexing.html#returning-a-view-versus-a-copy\n",
      "D:\\Anaconda\\envs\\py3-TF2.0\\lib\\site-packages\\ipykernel_launcher.py:22: SettingWithCopyWarning: \n",
      "A value is trying to be set on a copy of a slice from a DataFrame\n",
      "\n",
      "See the caveats in the documentation: https://pandas.pydata.org/pandas-docs/stable/user_guide/indexing.html#returning-a-view-versus-a-copy\n"
     ]
    },
    {
     "name": "stdout",
     "output_type": "stream",
     "text": [
      "Mean Model Accuracy 0.9207341269841269\n",
      "False pass Rate : 0.037037037037037035\n",
      "False fail Rate : 0.11538461538461539\n",
      "\n",
      "\n",
      "\n",
      "Model Accuracy Knowing Only G1 Score\n",
      "=====================================\n",
      "Mean Model Accuracy 0.8354662698412699\n",
      "False pass Rate : 0.07407407407407407\n",
      "False fail Rate : 0.19230769230769232\n",
      "\n",
      "\n",
      "\n",
      "Model Accuracy Without Knowing Scores\n",
      "=====================================\n"
     ]
    },
    {
     "name": "stderr",
     "output_type": "stream",
     "text": [
      "D:\\Anaconda\\envs\\py3-TF2.0\\lib\\site-packages\\sklearn\\svm\\_base.py:947: ConvergenceWarning: Liblinear failed to converge, increase the number of iterations.\n",
      "  \"the number of iterations.\", ConvergenceWarning)\n",
      "D:\\Anaconda\\envs\\py3-TF2.0\\lib\\site-packages\\sklearn\\svm\\_base.py:947: ConvergenceWarning: Liblinear failed to converge, increase the number of iterations.\n",
      "  \"the number of iterations.\", ConvergenceWarning)\n"
     ]
    },
    {
     "name": "stdout",
     "output_type": "stream",
     "text": [
      "Mean Model Accuracy 0.6199900793650793\n",
      "False pass Rate : 0.2222222222222222\n",
      "False fail Rate : 0.6730769230769231\n",
      "\n"
     ]
    },
    {
     "name": "stderr",
     "output_type": "stream",
     "text": [
      "D:\\Anaconda\\envs\\py3-TF2.0\\lib\\site-packages\\sklearn\\svm\\_base.py:947: ConvergenceWarning: Liblinear failed to converge, increase the number of iterations.\n",
      "  \"the number of iterations.\", ConvergenceWarning)\n"
     ]
    }
   ],
   "source": [
    "def main():\n",
    "    print(\"Student Performance Predictions\")\n",
    "    \n",
    "    label_encoder = LabelEncoder()\n",
    "    data = read_data()\n",
    "    print(data.columns)\n",
    "    final_data = data.drop(['school', 'nursery', 'guardian', 'reason', 'schoolsup','address'], axis=1)\n",
    "    for column in final_data[['sex', 'famsize', 'Pstatus', 'Mjob', \n",
    "                        'Fjob', 'famsup', 'paid', 'activities', 'higher', 'internet', 'romantic']]:\n",
    "        final_data[column] = label_encoder.fit_transform(final_data[column].values)\n",
    "    print(final_data['famsup'])\n",
    "    with open('label_encoder.pkl','wb') as f:\n",
    "        pickle.dump(label_encoder, f)\n",
    "        \n",
    "    for i, row in final_data.iterrows():\n",
    "        if row[\"G1\"] >= 10:\n",
    "            final_data[\"G1\"][i] = 1\n",
    "        else:\n",
    "            final_data[\"G1\"][i] = 0\n",
    "\n",
    "        if row[\"G2\"] >= 10:\n",
    "            final_data[\"G2\"][i] = 1\n",
    "        else:\n",
    "            final_data[\"G2\"][i] = 0\n",
    "\n",
    "        if row[\"G3\"] >= 10:\n",
    "            final_data[\"G3\"][i] = 1\n",
    "        else:\n",
    "            final_data[\"G3\"][i] = 0\n",
    "            \n",
    "    y = final_data.pop(\"G3\")\n",
    "    X = final_data\n",
    "    \n",
    "    print(\"\\n\\nModel Accuracy Knowing G1 & G2 Scores\")\n",
    "    print(\"=====================================\")\n",
    "    mod_1 = train_and_score(X, y, \"G1G2\")\n",
    "\n",
    "    # Remove grade report 2\n",
    "    X.drop([\"G2\"], axis = 1, inplace=True)\n",
    "    print(\"\\n\\nModel Accuracy Knowing Only G1 Score\")\n",
    "    print(\"=====================================\")\n",
    "    train_and_score(X, y, \"G1\")\n",
    "\n",
    "    # Remove grade report 1\n",
    "    X.drop([\"G1\"], axis=1, inplace=True)\n",
    "    print(\"\\n\\nModel Accuracy Without Knowing Scores\")\n",
    "    print(\"=====================================\")\n",
    "    train_and_score(X, y, \"N\")\n",
    "\n",
    "\n",
    "\n",
    "main()\n",
    "        "
   ]
  },
  {
   "cell_type": "code",
   "execution_count": 23,
   "metadata": {},
   "outputs": [
    {
     "name": "stdout",
     "output_type": "stream",
     "text": [
      "Pipeline(memory=None,\n",
      "         steps=[('reduce_dim',\n",
      "                 SelectKBest(k=2,\n",
      "                             score_func=<function chi2 at 0x0000019960787288>)),\n",
      "                ('train',\n",
      "                 LinearSVC(C=100, class_weight=None, dual=True,\n",
      "                           fit_intercept=True, intercept_scaling=1,\n",
      "                           loss='squared_hinge', max_iter=1000,\n",
      "                           multi_class='ovr', penalty='l2', random_state=None,\n",
      "                           tol=0.0001, verbose=0))],\n",
      "         verbose=False)\n"
     ]
    }
   ],
   "source": [
    "with open(\"modelN.pkl\",\"rb\") as f:\n",
    "    model = pickle.load(f)\n",
    "    print(model)"
   ]
  },
  {
   "cell_type": "code",
   "execution_count": 24,
   "metadata": {},
   "outputs": [
    {
     "data": {
      "text/plain": [
       "array([0], dtype=int64)"
      ]
     },
     "execution_count": 24,
     "metadata": {},
     "output_type": "execute_result"
    }
   ],
   "source": [
    "list1 = [ 0, 21,  0,  1,  4,  4,  4,  5,  4,  4,  2,  1,  1,  0,  1,  1,  1,  4,  3,  2,  1,  1,  4,  5]\n",
    "cat_val = np.array(list1).reshape(1,-1)\n",
    "model.predict(cat_val)\n"
   ]
  },
  {
   "cell_type": "code",
   "execution_count": null,
   "metadata": {},
   "outputs": [],
   "source": []
  }
 ],
 "metadata": {
  "kernelspec": {
   "display_name": "py3-TF2.0Kernel",
   "language": "python",
   "name": "py3-tf2.0"
  },
  "language_info": {
   "codemirror_mode": {
    "name": "ipython",
    "version": 3
   },
   "file_extension": ".py",
   "mimetype": "text/x-python",
   "name": "python",
   "nbconvert_exporter": "python",
   "pygments_lexer": "ipython3",
   "version": "3.7.7"
  }
 },
 "nbformat": 4,
 "nbformat_minor": 4
}
